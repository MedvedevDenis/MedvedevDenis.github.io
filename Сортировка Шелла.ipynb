{
 "cells": [
  {
   "cell_type": "markdown",
   "metadata": {},
   "source": [
    "# Сортировка Шелла #"
   ]
  },
  {
   "cell_type": "code",
   "execution_count": 1,
   "metadata": {},
   "outputs": [],
   "source": [
    "import numpy as np\n",
    "import pylab as pl\n",
    "from timeit import default_timer as timer\n",
    "import random as rand\n"
   ]
  },
  {
   "cell_type": "markdown",
   "metadata": {},
   "source": [
    "#### Последовательность Седгевика ####\n",
    "\n",
    "$$h_s=\\begin{cases}\n",
    "9 \\cdot 2^s -9 \\cdot 2^{\\frac{s}{2}}+1 , s-четно  \\\\\n",
    "8\\cdot 2^s -6 \\cdot 2^{\\frac{s+1}{2}}+1 , s-нечетно \n",
    "\\end{cases}\n",
    "$$"
   ]
  },
  {
   "cell_type": "code",
   "execution_count": 2,
   "metadata": {},
   "outputs": [],
   "source": [
    "def Sedgewicksequence(s):\n",
    "    if s%2==0:\n",
    "        return int(9*2**s-9*2**(s/2)+1)\n",
    "    else :\n",
    "        return int(8*2**s-6*2**((s+1)/2)+1)"
   ]
  },
  {
   "cell_type": "code",
   "execution_count": 3,
   "metadata": {},
   "outputs": [],
   "source": [
    "def ShellSort(array,sedgewicksequence,t):\n",
    "    T=1\n",
    "    while T<len(array):\n",
    "        T=Sedgewicksequence(t)\n",
    "        sedgewicksequence.append(T)\n",
    "        t=t+1\n",
    "    t0 = timer()\n",
    "    for h in reversed(sedgewicksequence):\n",
    "        for j in range(h,len(array)):\n",
    "            i=j-h\n",
    "            while i>=0 and array[i]>array[i+h]:\n",
    "                array[i], array[i+h] = array[i+h], array[i]\n",
    "                i -= h\n",
    "    return (timer()-t0),sedgewicksequence,t\n"
   ]
  },
  {
   "cell_type": "code",
   "execution_count": 8,
   "metadata": {},
   "outputs": [
    {
     "data": {
      "image/png": "[encoded data removed]",
      "text/plain": [
       "<Figure size 432x288 with 1 Axes>"
      ]
     },
     "metadata": {
      "needs_background": "light"
     },
     "output_type": "display_data"
    }
   ],
   "source": [
    "n_array=[]\n",
    "time_array=[]\n",
    "N=np.arange(0,5000,100)\n",
    "\n",
    "t=1\n",
    "sedgewicksequence=[]\n",
    "sedgewicksequence.append(1)\n",
    "for n in N:\n",
    "    array=np.array([rand.randint(0, n) for i in range(0, n)])\n",
    "    tm,sedgewicksequence,t=ShellSort(array,sedgewicksequence,t)\n",
    "    time_array.append(tm)\n",
    "     \n",
    "pl.plot(N,time_array)\n",
    "pl.xlabel('Длина массива')\n",
    "pl.ylabel('Время')\n",
    "pl.show()"
   ]
  },
  {
   "cell_type": "code",
   "execution_count": null,
   "metadata": {},
   "outputs": [],
   "source": []
  },
  {
   "cell_type": "code",
   "execution_count": null,
   "metadata": {},
   "outputs": [],
   "source": []
  }
 ],
 "metadata": {
  "kernelspec": {
   "display_name": "Python 3",
   "language": "python",
   "name": "python3"
  },
  "language_info": {
   "codemirror_mode": {
    "name": "ipython",
    "version": 3
   },
   "file_extension": ".py",
   "mimetype": "text/x-python",
   "name": "python",
   "nbconvert_exporter": "python",
   "pygments_lexer": "ipython3",
   "version": "3.7.0"
  }
 },
 "nbformat": 4,
 "nbformat_minor": 2
}
